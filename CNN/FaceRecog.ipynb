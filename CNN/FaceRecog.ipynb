{
 "cells": [
  {
   "cell_type": "markdown",
   "id": "006d4577-036c-4289-ba2c-615585954462",
   "metadata": {},
   "source": [
    "### 0. Install Packages "
   ]
  },
  {
   "cell_type": "code",
   "execution_count": 2,
   "id": "64ecc8ab-d14c-4b36-a7df-48ac2c3dcde1",
   "metadata": {},
   "outputs": [
    {
     "name": "stdout",
     "output_type": "stream",
     "text": [
      "Requirement already satisfied: opencv-python in c:\\users\\dell\\anaconda3\\lib\\site-packages (4.5.4.60)\n",
      "Requirement already satisfied: numpy>=1.17.3 in c:\\users\\dell\\anaconda3\\lib\\site-packages (from opencv-python) (1.22.0)\n"
     ]
    },
    {
     "name": "stderr",
     "output_type": "stream",
     "text": [
      "WARNING: You are using pip version 21.3.1; however, version 22.0.4 is available.\n",
      "You should consider upgrading via the 'c:\\users\\dell\\anaconda3\\python.exe -m pip install --upgrade pip' command.\n"
     ]
    }
   ],
   "source": [
    "!pip install opencv-python"
   ]
  },
  {
   "cell_type": "markdown",
   "id": "f12e0e34-b77f-453e-a841-c790704404ae",
   "metadata": {},
   "source": [
    "### 1. Load Packages"
   ]
  },
  {
   "cell_type": "code",
   "execution_count": 1,
   "id": "2597a1c4-d0db-48b6-8097-26652ea8d7f2",
   "metadata": {},
   "outputs": [],
   "source": [
    "import cv2  # Opencv for Computer vision\n",
    "import os"
   ]
  },
  {
   "cell_type": "markdown",
   "id": "889cda9a-9622-40fc-a948-210100dafedf",
   "metadata": {},
   "source": [
    "### 2. Data Collection ( Take Photos from Camera )"
   ]
  },
  {
   "cell_type": "code",
   "execution_count": 3,
   "id": "88d3b90a-9867-403e-9eec-7da934398df2",
   "metadata": {},
   "outputs": [
    {
     "name": "stdin",
     "output_type": "stream",
     "text": [
      "please enter your name :  khalid\n"
     ]
    },
    {
     "name": "stdout",
     "output_type": "stream",
     "text": [
      "N.o. photos taken: 1\n",
      "N.o. photos taken: 2\n",
      "N.o. photos taken: 3\n",
      "N.o. photos taken: 4\n"
     ]
    }
   ],
   "source": [
    "def create ():\n",
    "    try :\n",
    "        os.mkdir('data')\n",
    "    except:\n",
    "        print('data file already exists'')\n",
    "def takephoto():\n",
    "    classname=input('please enter your name : ')\n",
    "    cap= cv2.VideoCapture(1) #videofile as string or  0 for primary camera , 1 for sec camera\n",
    "    i=0\n",
    "    try :\n",
    "        os.mkdir('data/'+classname)\n",
    "    except:\n",
    "        print(classname+' already exists, please choose another name')\n",
    "    while(1):    \n",
    "        ret,frame=cap.read()   # ret : boolean , frame  : image\n",
    "        cv2.imshow('my camera',frame)\n",
    "        if cv2.waitKey(100) & 0xFF == ord('g'): # wait for 10 milli seconds\n",
    "            i+=1\n",
    "            cv2.imwrite('data/'+classname+'/'+classname+str(i)+'.jpg',frame)\n",
    "            print('N.o. photos taken:',i)\n",
    "        if cv2.waitKey(100) & 0xFF == ord('q'): # wait for 10 milli seconds\n",
    "            break\n",
    "    cap.release()  # close Camera\n",
    "    cv2.destroyAllWindows()  # close open windows \n",
    "              \n",
    "def load_data ()\n",
    "    classes=os.listdir('data')\n",
    "    data_dictionary={}\n",
    "    for classname in classes :\n",
    "            classname_images=[]\n",
    "            for image_file in  os.listdir('data/'+classname):\n",
    "                image=cv2.imread('data/'+classname+'/'+image_file)\n",
    "                classname_images.append(image)\n",
    "                cv2.imshow(classname,image)\n",
    "                cv2.waitKey(1000)\n",
    "                cv2.destroyAllWindows()\n",
    "            data_dictionary[classname]=classname_images\n",
    "    return data_dictionary"
   ]
  },
  {
   "cell_type": "code",
   "execution_count": 6,
   "id": "16f4f280-4031-4fb9-9d59-d6bbdeb24b1c",
   "metadata": {},
   "outputs": [],
   "source": [
    "create()\n",
    "take_photo()\n",
    "load_data()\n",
    "\n"
   ]
  },
  {
   "cell_type": "markdown",
   "id": "e1a94b67-0393-4722-8f0f-d75a4a2951ba",
   "metadata": {},
   "source": [
    "### 3. Data Preprocessing and Annotation "
   ]
  },
  {
   "cell_type": "code",
   "execution_count": null,
   "id": "a8285710-65d6-48df-9d8f-8cdf088ac1bf",
   "metadata": {},
   "outputs": [],
   "source": []
  },
  {
   "cell_type": "markdown",
   "id": "0dfa7b32-cb9c-49b7-9f96-902829977427",
   "metadata": {},
   "source": [
    "### 4. Build The CNN Model "
   ]
  },
  {
   "cell_type": "code",
   "execution_count": null,
   "id": "24d011eb-8bcd-4f44-a5c0-3384929cc6d4",
   "metadata": {},
   "outputs": [],
   "source": []
  },
  {
   "cell_type": "markdown",
   "id": "774cedf2-0b3a-4721-b4db-d741752a21f0",
   "metadata": {},
   "source": [
    "### 5. Train The Model ( Fit and Compile ) "
   ]
  },
  {
   "cell_type": "code",
   "execution_count": null,
   "id": "72a59697-0337-4199-a4f5-ff0847b315d4",
   "metadata": {},
   "outputs": [],
   "source": []
  },
  {
   "cell_type": "markdown",
   "id": "c5a9e247-28f8-43d6-880d-87451dbf9e7f",
   "metadata": {},
   "source": [
    "### 6. Test The Model "
   ]
  },
  {
   "cell_type": "code",
   "execution_count": null,
   "id": "d7f9c954-7255-4964-ba6a-cef5b8958e29",
   "metadata": {},
   "outputs": [],
   "source": []
  },
  {
   "cell_type": "markdown",
   "id": "aa154c84-1ef7-427a-9c82-9925ac0f7a93",
   "metadata": {},
   "source": [
    "### 7. Get The Model Ready For Inference"
   ]
  },
  {
   "cell_type": "code",
   "execution_count": null,
   "id": "32726995-3590-4d01-9790-d13abe54ab7b",
   "metadata": {},
   "outputs": [],
   "source": []
  },
  {
   "cell_type": "markdown",
   "id": "e37d763e-d808-4650-9a36-7ec119afd44d",
   "metadata": {},
   "source": [
    "### 8. Add GUI or Similar Things "
   ]
  },
  {
   "cell_type": "code",
   "execution_count": null,
   "id": "61763081-837b-4cf4-889a-f49795d8cc9d",
   "metadata": {},
   "outputs": [],
   "source": []
  }
 ],
 "metadata": {
  "kernelspec": {
   "display_name": "Python 3",
   "language": "python",
   "name": "python3"
  },
  "language_info": {
   "codemirror_mode": {
    "name": "ipython",
    "version": 3
   },
   "file_extension": ".py",
   "mimetype": "text/x-python",
   "name": "python",
   "nbconvert_exporter": "python",
   "pygments_lexer": "ipython3",
   "version": "3.8.8"
  }
 },
 "nbformat": 4,
 "nbformat_minor": 5
}
